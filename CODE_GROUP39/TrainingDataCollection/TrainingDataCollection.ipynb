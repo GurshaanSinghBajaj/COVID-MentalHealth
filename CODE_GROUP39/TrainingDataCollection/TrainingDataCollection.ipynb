{
 "cells": [
  {
   "cell_type": "code",
   "execution_count": 1,
   "metadata": {
    "scrolled": true
   },
   "outputs": [
    {
     "name": "stderr",
     "output_type": "stream",
     "text": [
      "C:\\Users\\Gurshaan\\Anaconda3\\lib\\site-packages\\pprintpp\\__init__.py:171: UserWarning: 'pprint' has already been imported; monkeypatching won't work everywhere.\n",
      "  warnings.warn(\"'pprint' has already been imported; monkeypatching \"\n"
     ]
    }
   ],
   "source": [
    "import praw\n",
    "import pandas as pd\n",
    "import datetime as dt\n",
    "import pprintpp\n",
    "pprintpp.monkeypatch()\n",
    "import pprint\n",
    "import requests\n",
    "import json"
   ]
  },
  {
   "cell_type": "code",
   "execution_count": 2,
   "metadata": {},
   "outputs": [],
   "source": [
    "SUBREDDITS = [\n",
    "    \"SuicideWatch\",\n",
    "    \"Depression\",\n",
    "    \"Stress\",\n",
    "    \"Offmychest\",\n",
    "    \"ADHD\",\n",
    "    \"Anxiety\",\n",
    "    \"PTSD\"\n",
    "]"
   ]
  },
  {
   "cell_type": "code",
   "execution_count": 3,
   "metadata": {},
   "outputs": [],
   "source": [
    "SUBREDDITS_NONDP = [\n",
    "    \"Thoughts\",\n",
    "    \"ReviewThis\",\n",
    "    \"culture\",\n",
    "    \"positivepsychology\",\n",
    "    \"love\",\n",
    "    \"travel\",\n",
    "    \"MovieSuggestions\"\n",
    "]"
   ]
  },
  {
   "cell_type": "markdown",
   "metadata": {},
   "source": [
    "print(submissiontemp.selftext)\n",
    "submissiontemp = all.random()\n",
    "pprint.pprint(vars(submissiontemp))"
   ]
  },
  {
   "cell_type": "markdown",
   "metadata": {},
   "source": [
    "topics_dict.clear()"
   ]
  },
  {
   "cell_type": "code",
   "execution_count": 9,
   "metadata": {},
   "outputs": [],
   "source": [
    "def getPushshiftData(query,after, before, sub):\n",
    "    url = 'https://api.pushshift.io/reddit/search/submission/?size=500&after='+str(after)+'&before='+str(before)+'&subreddit='+str(sub)\n",
    "    r = requests.get(url)\n",
    "    try:\n",
    "        data = json.loads(r.text)\n",
    "        return data['data']\n",
    "    except JSONDecodeError:\n",
    "        print(\"JSON Exception Caught\")"
   ]
  },
  {
   "cell_type": "code",
   "execution_count": 10,
   "metadata": {},
   "outputs": [],
   "source": [
    "def getRedditSubmission(start,end,sub,query):\n",
    "    start_date = start\n",
    "    end_date = end\n",
    "    \n",
    "    collected_data = {\n",
    "        \"author\":[],\n",
    "        \"post_id\":[],\n",
    "        \"title\":[],\n",
    "        \"text\": []\n",
    "    }\n",
    "    \n",
    "    while start_date<end_date:\n",
    "        temp_date = start_date + (24*60*60)\n",
    "        submissions = getPushshiftData(query,start_date,temp_date,sub)\n",
    "        \n",
    "        for submission in submissions:\n",
    "            if 'removed_by_category' in submission:  ## Reject removed posts\n",
    "                continue\n",
    "            collected_data[\"author\"].append(submission['author'])\n",
    "            collected_data[\"post_id\"].append(submission['id'])\n",
    "            collected_data[\"title\"].append(submission['title'])\n",
    "            collected_data[\"text\"].append(submission['selftext'])\n",
    "            \n",
    "        start_date = temp_date\n",
    "        \n",
    "        \n",
    "    return collected_data"
   ]
  },
  {
   "cell_type": "code",
   "execution_count": 5,
   "metadata": {
    "scrolled": true
   },
   "outputs": [
    {
     "name": "stdout",
     "output_type": "stream",
     "text": [
      "https://api.pushshift.io/reddit/search/submission/?query=covid&size=500&after=1585699200&before=1585785600&subreddit=depression\n",
      "https://api.pushshift.io/reddit/search/submission/?query=covid&size=500&after=1585785600&before=1585872000&subreddit=depression\n",
      "https://api.pushshift.io/reddit/search/submission/?query=covid&size=500&after=1585872000&before=1585958400&subreddit=depression\n",
      "https://api.pushshift.io/reddit/search/submission/?query=covid&size=500&after=1585958400&before=1586044800&subreddit=depression\n",
      "https://api.pushshift.io/reddit/search/submission/?query=covid&size=500&after=1586044800&before=1586131200&subreddit=depression\n",
      "https://api.pushshift.io/reddit/search/submission/?query=covid&size=500&after=1586131200&before=1586217600&subreddit=depression\n",
      "https://api.pushshift.io/reddit/search/submission/?query=covid&size=500&after=1586217600&before=1586304000&subreddit=depression\n",
      "https://api.pushshift.io/reddit/search/submission/?query=covid&size=500&after=1586304000&before=1586390400&subreddit=depression\n",
      "https://api.pushshift.io/reddit/search/submission/?query=covid&size=500&after=1586390400&before=1586476800&subreddit=depression\n",
      "https://api.pushshift.io/reddit/search/submission/?query=covid&size=500&after=1586476800&before=1586563200&subreddit=depression\n",
      "https://api.pushshift.io/reddit/search/submission/?query=covid&size=500&after=1586563200&before=1586649600&subreddit=depression\n",
      "https://api.pushshift.io/reddit/search/submission/?query=covid&size=500&after=1586649600&before=1586736000&subreddit=depression\n",
      "https://api.pushshift.io/reddit/search/submission/?query=covid&size=500&after=1586736000&before=1586822400&subreddit=depression\n",
      "https://api.pushshift.io/reddit/search/submission/?query=covid&size=500&after=1586822400&before=1586908800&subreddit=depression\n",
      "https://api.pushshift.io/reddit/search/submission/?query=covid&size=500&after=1586908800&before=1586995200&subreddit=depression\n",
      "https://api.pushshift.io/reddit/search/submission/?query=covid&size=500&after=1586995200&before=1587081600&subreddit=depression\n",
      "https://api.pushshift.io/reddit/search/submission/?query=covid&size=500&after=1587081600&before=1587168000&subreddit=depression\n",
      "https://api.pushshift.io/reddit/search/submission/?query=covid&size=500&after=1587168000&before=1587254400&subreddit=depression\n",
      "https://api.pushshift.io/reddit/search/submission/?query=covid&size=500&after=1587254400&before=1587340800&subreddit=depression\n",
      "https://api.pushshift.io/reddit/search/submission/?query=covid&size=500&after=1587340800&before=1587427200&subreddit=depression\n",
      "https://api.pushshift.io/reddit/search/submission/?query=covid&size=500&after=1587427200&before=1587513600&subreddit=depression\n",
      "https://api.pushshift.io/reddit/search/submission/?query=covid&size=500&after=1587513600&before=1587600000&subreddit=depression\n",
      "https://api.pushshift.io/reddit/search/submission/?query=covid&size=500&after=1587600000&before=1587686400&subreddit=depression\n",
      "https://api.pushshift.io/reddit/search/submission/?query=covid&size=500&after=1587686400&before=1587772800&subreddit=depression\n",
      "https://api.pushshift.io/reddit/search/submission/?query=covid&size=500&after=1587772800&before=1587859200&subreddit=depression\n",
      "https://api.pushshift.io/reddit/search/submission/?query=covid&size=500&after=1587859200&before=1587945600&subreddit=depression\n",
      "https://api.pushshift.io/reddit/search/submission/?query=covid&size=500&after=1587945600&before=1588032000&subreddit=depression\n",
      "https://api.pushshift.io/reddit/search/submission/?query=covid&size=500&after=1588032000&before=1588118400&subreddit=depression\n",
      "https://api.pushshift.io/reddit/search/submission/?query=covid&size=500&after=1588118400&before=1588204800&subreddit=depression\n",
      "https://api.pushshift.io/reddit/search/submission/?query=covid&size=500&after=1588204800&before=1588291200&subreddit=depression\n",
      "https://api.pushshift.io/reddit/search/submission/?query=covid&size=500&after=1588291200&before=1588377600&subreddit=depression\n",
      "https://api.pushshift.io/reddit/search/submission/?query=covid&size=500&after=1588377600&before=1588464000&subreddit=depression\n",
      "https://api.pushshift.io/reddit/search/submission/?query=covid&size=500&after=1588464000&before=1588550400&subreddit=depression\n",
      "https://api.pushshift.io/reddit/search/submission/?query=covid&size=500&after=1588550400&before=1588636800&subreddit=depression\n",
      "https://api.pushshift.io/reddit/search/submission/?query=covid&size=500&after=1588636800&before=1588723200&subreddit=depression\n",
      "https://api.pushshift.io/reddit/search/submission/?query=covid&size=500&after=1588723200&before=1588809600&subreddit=depression\n",
      "https://api.pushshift.io/reddit/search/submission/?query=covid&size=500&after=1588809600&before=1588896000&subreddit=depression\n",
      "https://api.pushshift.io/reddit/search/submission/?query=covid&size=500&after=1588896000&before=1588982400&subreddit=depression\n",
      "https://api.pushshift.io/reddit/search/submission/?query=covid&size=500&after=1588982400&before=1589068800&subreddit=depression\n",
      "https://api.pushshift.io/reddit/search/submission/?query=covid&size=500&after=1589068800&before=1589155200&subreddit=depression\n",
      "https://api.pushshift.io/reddit/search/submission/?query=covid&size=500&after=1589155200&before=1589241600&subreddit=depression\n",
      "https://api.pushshift.io/reddit/search/submission/?query=covid&size=500&after=1589241600&before=1589328000&subreddit=depression\n",
      "https://api.pushshift.io/reddit/search/submission/?query=covid&size=500&after=1589328000&before=1589414400&subreddit=depression\n",
      "https://api.pushshift.io/reddit/search/submission/?query=covid&size=500&after=1589414400&before=1589500800&subreddit=depression\n",
      "https://api.pushshift.io/reddit/search/submission/?query=covid&size=500&after=1589500800&before=1589587200&subreddit=depression\n",
      "https://api.pushshift.io/reddit/search/submission/?query=covid&size=500&after=1589587200&before=1589673600&subreddit=depression\n",
      "https://api.pushshift.io/reddit/search/submission/?query=covid&size=500&after=1589673600&before=1589760000&subreddit=depression\n",
      "https://api.pushshift.io/reddit/search/submission/?query=covid&size=500&after=1589760000&before=1589846400&subreddit=depression\n",
      "https://api.pushshift.io/reddit/search/submission/?query=covid&size=500&after=1589846400&before=1589932800&subreddit=depression\n",
      "https://api.pushshift.io/reddit/search/submission/?query=covid&size=500&after=1589932800&before=1590019200&subreddit=depression\n",
      "https://api.pushshift.io/reddit/search/submission/?query=covid&size=500&after=1590019200&before=1590105600&subreddit=depression\n",
      "https://api.pushshift.io/reddit/search/submission/?query=covid&size=500&after=1590105600&before=1590192000&subreddit=depression\n",
      "https://api.pushshift.io/reddit/search/submission/?query=covid&size=500&after=1590192000&before=1590278400&subreddit=depression\n",
      "https://api.pushshift.io/reddit/search/submission/?query=covid&size=500&after=1590278400&before=1590364800&subreddit=depression\n",
      "https://api.pushshift.io/reddit/search/submission/?query=covid&size=500&after=1590364800&before=1590451200&subreddit=depression\n",
      "https://api.pushshift.io/reddit/search/submission/?query=covid&size=500&after=1590451200&before=1590537600&subreddit=depression\n",
      "https://api.pushshift.io/reddit/search/submission/?query=covid&size=500&after=1590537600&before=1590624000&subreddit=depression\n",
      "https://api.pushshift.io/reddit/search/submission/?query=covid&size=500&after=1590624000&before=1590710400&subreddit=depression\n",
      "https://api.pushshift.io/reddit/search/submission/?query=covid&size=500&after=1590710400&before=1590796800&subreddit=depression\n",
      "https://api.pushshift.io/reddit/search/submission/?query=covid&size=500&after=1590796800&before=1590883200&subreddit=depression\n",
      "https://api.pushshift.io/reddit/search/submission/?query=covid&size=500&after=1590883200&before=1590969600&subreddit=depression\n",
      "https://api.pushshift.io/reddit/search/submission/?query=covid&size=500&after=1590969600&before=1591056000&subreddit=depression\n",
      "https://api.pushshift.io/reddit/search/submission/?query=covid&size=500&after=1591056000&before=1591142400&subreddit=depression\n",
      "https://api.pushshift.io/reddit/search/submission/?query=covid&size=500&after=1591142400&before=1591228800&subreddit=depression\n",
      "https://api.pushshift.io/reddit/search/submission/?query=covid&size=500&after=1591228800&before=1591315200&subreddit=depression\n",
      "https://api.pushshift.io/reddit/search/submission/?query=covid&size=500&after=1591315200&before=1591401600&subreddit=depression\n",
      "https://api.pushshift.io/reddit/search/submission/?query=covid&size=500&after=1591401600&before=1591488000&subreddit=depression\n",
      "https://api.pushshift.io/reddit/search/submission/?query=covid&size=500&after=1591488000&before=1591574400&subreddit=depression\n",
      "https://api.pushshift.io/reddit/search/submission/?query=covid&size=500&after=1591574400&before=1591660800&subreddit=depression\n",
      "https://api.pushshift.io/reddit/search/submission/?query=covid&size=500&after=1591660800&before=1591747200&subreddit=depression\n",
      "https://api.pushshift.io/reddit/search/submission/?query=covid&size=500&after=1591747200&before=1591833600&subreddit=depression\n",
      "https://api.pushshift.io/reddit/search/submission/?query=covid&size=500&after=1591833600&before=1591920000&subreddit=depression\n",
      "https://api.pushshift.io/reddit/search/submission/?query=covid&size=500&after=1591920000&before=1592006400&subreddit=depression\n",
      "https://api.pushshift.io/reddit/search/submission/?query=covid&size=500&after=1592006400&before=1592092800&subreddit=depression\n",
      "https://api.pushshift.io/reddit/search/submission/?query=covid&size=500&after=1592092800&before=1592179200&subreddit=depression\n",
      "https://api.pushshift.io/reddit/search/submission/?query=covid&size=500&after=1592179200&before=1592265600&subreddit=depression\n",
      "https://api.pushshift.io/reddit/search/submission/?query=covid&size=500&after=1592265600&before=1592352000&subreddit=depression\n",
      "https://api.pushshift.io/reddit/search/submission/?query=covid&size=500&after=1592352000&before=1592438400&subreddit=depression\n",
      "https://api.pushshift.io/reddit/search/submission/?query=covid&size=500&after=1592438400&before=1592524800&subreddit=depression\n",
      "https://api.pushshift.io/reddit/search/submission/?query=covid&size=500&after=1592524800&before=1592611200&subreddit=depression\n",
      "https://api.pushshift.io/reddit/search/submission/?query=covid&size=500&after=1592611200&before=1592697600&subreddit=depression\n",
      "https://api.pushshift.io/reddit/search/submission/?query=covid&size=500&after=1592697600&before=1592784000&subreddit=depression\n",
      "https://api.pushshift.io/reddit/search/submission/?query=covid&size=500&after=1592784000&before=1592870400&subreddit=depression\n",
      "https://api.pushshift.io/reddit/search/submission/?query=covid&size=500&after=1592870400&before=1592956800&subreddit=depression\n",
      "https://api.pushshift.io/reddit/search/submission/?query=covid&size=500&after=1592956800&before=1593043200&subreddit=depression\n",
      "https://api.pushshift.io/reddit/search/submission/?query=covid&size=500&after=1593043200&before=1593129600&subreddit=depression\n",
      "https://api.pushshift.io/reddit/search/submission/?query=covid&size=500&after=1593129600&before=1593216000&subreddit=depression\n",
      "https://api.pushshift.io/reddit/search/submission/?query=covid&size=500&after=1593216000&before=1593302400&subreddit=depression\n",
      "https://api.pushshift.io/reddit/search/submission/?query=covid&size=500&after=1593302400&before=1593388800&subreddit=depression\n",
      "https://api.pushshift.io/reddit/search/submission/?query=covid&size=500&after=1593388800&before=1593475200&subreddit=depression\n",
      "https://api.pushshift.io/reddit/search/submission/?query=covid&size=500&after=1593475200&before=1593561600&subreddit=depression\n",
      "https://api.pushshift.io/reddit/search/submission/?query=covid&size=500&after=1593561600&before=1593648000&subreddit=depression\n",
      "https://api.pushshift.io/reddit/search/submission/?query=covid&size=500&after=1593648000&before=1593734400&subreddit=depression\n",
      "https://api.pushshift.io/reddit/search/submission/?query=covid&size=500&after=1593734400&before=1593820800&subreddit=depression\n",
      "https://api.pushshift.io/reddit/search/submission/?query=covid&size=500&after=1593820800&before=1593907200&subreddit=depression\n",
      "https://api.pushshift.io/reddit/search/submission/?query=covid&size=500&after=1593907200&before=1593993600&subreddit=depression\n",
      "https://api.pushshift.io/reddit/search/submission/?query=covid&size=500&after=1593993600&before=1594080000&subreddit=depression\n",
      "https://api.pushshift.io/reddit/search/submission/?query=covid&size=500&after=1594080000&before=1594166400&subreddit=depression\n",
      "https://api.pushshift.io/reddit/search/submission/?query=covid&size=500&after=1594166400&before=1594252800&subreddit=depression\n",
      "https://api.pushshift.io/reddit/search/submission/?query=covid&size=500&after=1594252800&before=1594339200&subreddit=depression\n",
      "https://api.pushshift.io/reddit/search/submission/?query=covid&size=500&after=1594339200&before=1594425600&subreddit=depression\n",
      "https://api.pushshift.io/reddit/search/submission/?query=covid&size=500&after=1594425600&before=1594512000&subreddit=depression\n",
      "https://api.pushshift.io/reddit/search/submission/?query=covid&size=500&after=1594512000&before=1594598400&subreddit=depression\n",
      "https://api.pushshift.io/reddit/search/submission/?query=covid&size=500&after=1594598400&before=1594684800&subreddit=depression\n",
      "https://api.pushshift.io/reddit/search/submission/?query=covid&size=500&after=1594684800&before=1594771200&subreddit=depression\n",
      "https://api.pushshift.io/reddit/search/submission/?query=covid&size=500&after=1594771200&before=1594857600&subreddit=depression\n",
      "https://api.pushshift.io/reddit/search/submission/?query=covid&size=500&after=1594857600&before=1594944000&subreddit=depression\n",
      "https://api.pushshift.io/reddit/search/submission/?query=covid&size=500&after=1594944000&before=1595030400&subreddit=depression\n",
      "https://api.pushshift.io/reddit/search/submission/?query=covid&size=500&after=1595030400&before=1595116800&subreddit=depression\n",
      "https://api.pushshift.io/reddit/search/submission/?query=covid&size=500&after=1595116800&before=1595203200&subreddit=depression\n",
      "https://api.pushshift.io/reddit/search/submission/?query=covid&size=500&after=1595203200&before=1595289600&subreddit=depression\n",
      "https://api.pushshift.io/reddit/search/submission/?query=covid&size=500&after=1595289600&before=1595376000&subreddit=depression\n",
      "https://api.pushshift.io/reddit/search/submission/?query=covid&size=500&after=1595376000&before=1595462400&subreddit=depression\n",
      "https://api.pushshift.io/reddit/search/submission/?query=covid&size=500&after=1595462400&before=1595548800&subreddit=depression\n",
      "https://api.pushshift.io/reddit/search/submission/?query=covid&size=500&after=1595548800&before=1595635200&subreddit=depression\n",
      "https://api.pushshift.io/reddit/search/submission/?query=covid&size=500&after=1595635200&before=1595721600&subreddit=depression\n",
      "https://api.pushshift.io/reddit/search/submission/?query=covid&size=500&after=1595721600&before=1595808000&subreddit=depression\n",
      "https://api.pushshift.io/reddit/search/submission/?query=covid&size=500&after=1595808000&before=1595894400&subreddit=depression\n",
      "https://api.pushshift.io/reddit/search/submission/?query=covid&size=500&after=1595894400&before=1595980800&subreddit=depression\n",
      "https://api.pushshift.io/reddit/search/submission/?query=covid&size=500&after=1595980800&before=1596067200&subreddit=depression\n",
      "https://api.pushshift.io/reddit/search/submission/?query=covid&size=500&after=1596067200&before=1596153600&subreddit=depression\n",
      "https://api.pushshift.io/reddit/search/submission/?query=covid&size=500&after=1596153600&before=1596240000&subreddit=depression\n",
      "https://api.pushshift.io/reddit/search/submission/?query=covid&size=500&after=1596240000&before=1596326400&subreddit=depression\n",
      "https://api.pushshift.io/reddit/search/submission/?query=covid&size=500&after=1596326400&before=1596412800&subreddit=depression\n",
      "https://api.pushshift.io/reddit/search/submission/?query=covid&size=500&after=1596412800&before=1596499200&subreddit=depression\n",
      "https://api.pushshift.io/reddit/search/submission/?query=covid&size=500&after=1596499200&before=1596585600&subreddit=depression\n",
      "https://api.pushshift.io/reddit/search/submission/?query=covid&size=500&after=1596585600&before=1596672000&subreddit=depression\n",
      "https://api.pushshift.io/reddit/search/submission/?query=covid&size=500&after=1596672000&before=1596758400&subreddit=depression\n",
      "https://api.pushshift.io/reddit/search/submission/?query=covid&size=500&after=1596758400&before=1596844800&subreddit=depression\n",
      "https://api.pushshift.io/reddit/search/submission/?query=covid&size=500&after=1596844800&before=1596931200&subreddit=depression\n",
      "https://api.pushshift.io/reddit/search/submission/?query=covid&size=500&after=1596931200&before=1597017600&subreddit=depression\n",
      "https://api.pushshift.io/reddit/search/submission/?query=covid&size=500&after=1597017600&before=1597104000&subreddit=depression\n",
      "https://api.pushshift.io/reddit/search/submission/?query=covid&size=500&after=1597104000&before=1597190400&subreddit=depression\n",
      "https://api.pushshift.io/reddit/search/submission/?query=covid&size=500&after=1597190400&before=1597276800&subreddit=depression\n",
      "https://api.pushshift.io/reddit/search/submission/?query=covid&size=500&after=1597276800&before=1597363200&subreddit=depression\n",
      "https://api.pushshift.io/reddit/search/submission/?query=covid&size=500&after=1597363200&before=1597449600&subreddit=depression\n",
      "https://api.pushshift.io/reddit/search/submission/?query=covid&size=500&after=1597449600&before=1597536000&subreddit=depression\n",
      "https://api.pushshift.io/reddit/search/submission/?query=covid&size=500&after=1597536000&before=1597622400&subreddit=depression\n",
      "https://api.pushshift.io/reddit/search/submission/?query=covid&size=500&after=1597622400&before=1597708800&subreddit=depression\n",
      "https://api.pushshift.io/reddit/search/submission/?query=covid&size=500&after=1597708800&before=1597795200&subreddit=depression\n",
      "https://api.pushshift.io/reddit/search/submission/?query=covid&size=500&after=1597795200&before=1597881600&subreddit=depression\n",
      "https://api.pushshift.io/reddit/search/submission/?query=covid&size=500&after=1597881600&before=1597968000&subreddit=depression\n",
      "https://api.pushshift.io/reddit/search/submission/?query=covid&size=500&after=1597968000&before=1598054400&subreddit=depression\n",
      "https://api.pushshift.io/reddit/search/submission/?query=covid&size=500&after=1598054400&before=1598140800&subreddit=depression\n",
      "https://api.pushshift.io/reddit/search/submission/?query=covid&size=500&after=1598140800&before=1598227200&subreddit=depression\n",
      "https://api.pushshift.io/reddit/search/submission/?query=covid&size=500&after=1598227200&before=1598313600&subreddit=depression\n",
      "https://api.pushshift.io/reddit/search/submission/?query=covid&size=500&after=1598313600&before=1598400000&subreddit=depression\n",
      "https://api.pushshift.io/reddit/search/submission/?query=covid&size=500&after=1598400000&before=1598486400&subreddit=depression\n",
      "https://api.pushshift.io/reddit/search/submission/?query=covid&size=500&after=1598486400&before=1598572800&subreddit=depression\n",
      "https://api.pushshift.io/reddit/search/submission/?query=covid&size=500&after=1598572800&before=1598659200&subreddit=depression\n",
      "https://api.pushshift.io/reddit/search/submission/?query=covid&size=500&after=1598659200&before=1598745600&subreddit=depression\n",
      "https://api.pushshift.io/reddit/search/submission/?query=covid&size=500&after=1598745600&before=1598832000&subreddit=depression\n",
      "https://api.pushshift.io/reddit/search/submission/?query=covid&size=500&after=1598832000&before=1598918400&subreddit=depression\n",
      "https://api.pushshift.io/reddit/search/submission/?query=covid&size=500&after=1598918400&before=1599004800&subreddit=depression\n",
      "https://api.pushshift.io/reddit/search/submission/?query=covid&size=500&after=1599004800&before=1599091200&subreddit=depression\n",
      "https://api.pushshift.io/reddit/search/submission/?query=covid&size=500&after=1599091200&before=1599177600&subreddit=depression\n",
      "https://api.pushshift.io/reddit/search/submission/?query=covid&size=500&after=1599177600&before=1599264000&subreddit=depression\n",
      "https://api.pushshift.io/reddit/search/submission/?query=covid&size=500&after=1599264000&before=1599350400&subreddit=depression\n",
      "https://api.pushshift.io/reddit/search/submission/?query=covid&size=500&after=1599350400&before=1599436800&subreddit=depression\n",
      "https://api.pushshift.io/reddit/search/submission/?query=covid&size=500&after=1599436800&before=1599523200&subreddit=depression\n",
      "https://api.pushshift.io/reddit/search/submission/?query=covid&size=500&after=1599523200&before=1599609600&subreddit=depression\n",
      "https://api.pushshift.io/reddit/search/submission/?query=covid&size=500&after=1599609600&before=1599696000&subreddit=depression\n",
      "https://api.pushshift.io/reddit/search/submission/?query=covid&size=500&after=1599696000&before=1599782400&subreddit=depression\n",
      "https://api.pushshift.io/reddit/search/submission/?query=covid&size=500&after=1599782400&before=1599868800&subreddit=depression\n",
      "https://api.pushshift.io/reddit/search/submission/?query=covid&size=500&after=1599868800&before=1599955200&subreddit=depression\n",
      "https://api.pushshift.io/reddit/search/submission/?query=covid&size=500&after=1599955200&before=1600041600&subreddit=depression\n",
      "https://api.pushshift.io/reddit/search/submission/?query=covid&size=500&after=1600041600&before=1600128000&subreddit=depression\n",
      "https://api.pushshift.io/reddit/search/submission/?query=covid&size=500&after=1600128000&before=1600214400&subreddit=depression\n",
      "https://api.pushshift.io/reddit/search/submission/?query=covid&size=500&after=1600214400&before=1600300800&subreddit=depression\n",
      "https://api.pushshift.io/reddit/search/submission/?query=covid&size=500&after=1600300800&before=1600387200&subreddit=depression\n",
      "https://api.pushshift.io/reddit/search/submission/?query=covid&size=500&after=1600387200&before=1600473600&subreddit=depression\n",
      "https://api.pushshift.io/reddit/search/submission/?query=covid&size=500&after=1600473600&before=1600560000&subreddit=depression\n",
      "https://api.pushshift.io/reddit/search/submission/?query=covid&size=500&after=1600560000&before=1600646400&subreddit=depression\n",
      "https://api.pushshift.io/reddit/search/submission/?query=covid&size=500&after=1600646400&before=1600732800&subreddit=depression\n",
      "https://api.pushshift.io/reddit/search/submission/?query=covid&size=500&after=1600732800&before=1600819200&subreddit=depression\n",
      "https://api.pushshift.io/reddit/search/submission/?query=covid&size=500&after=1600819200&before=1600905600&subreddit=depression\n",
      "https://api.pushshift.io/reddit/search/submission/?query=covid&size=500&after=1600905600&before=1600992000&subreddit=depression\n",
      "https://api.pushshift.io/reddit/search/submission/?query=covid&size=500&after=1600992000&before=1601078400&subreddit=depression\n",
      "https://api.pushshift.io/reddit/search/submission/?query=covid&size=500&after=1601078400&before=1601164800&subreddit=depression\n",
      "https://api.pushshift.io/reddit/search/submission/?query=covid&size=500&after=1601164800&before=1601251200&subreddit=depression\n",
      "https://api.pushshift.io/reddit/search/submission/?query=covid&size=500&after=1601251200&before=1601337600&subreddit=depression\n",
      "https://api.pushshift.io/reddit/search/submission/?query=covid&size=500&after=1601337600&before=1601424000&subreddit=depression\n",
      "https://api.pushshift.io/reddit/search/submission/?query=covid&size=500&after=1601424000&before=1601510400&subreddit=depression\n",
      "https://api.pushshift.io/reddit/search/submission/?query=covid&size=500&after=1601510400&before=1601596800&subreddit=depression\n",
      "https://api.pushshift.io/reddit/search/submission/?query=covid&size=500&after=1601596800&before=1601683200&subreddit=depression\n",
      "https://api.pushshift.io/reddit/search/submission/?query=covid&size=500&after=1601683200&before=1601769600&subreddit=depression\n",
      "https://api.pushshift.io/reddit/search/submission/?query=covid&size=500&after=1601769600&before=1601856000&subreddit=depression\n"
     ]
    }
   ],
   "source": [
    "post_pandemic = getRedditSubmission(1564617600,1572566400,\"depression\",\"covid\") # Posts since 15 March mentioning covid\n"
   ]
  },
  {
   "cell_type": "code",
   "execution_count": 6,
   "metadata": {
    "scrolled": true
   },
   "outputs": [
    {
     "data": {
      "text/plain": [
       "15635"
      ]
     },
     "execution_count": 6,
     "metadata": {},
     "output_type": "execute_result"
    }
   ],
   "source": [
    "len(post_pandemic['title'])"
   ]
  },
  {
   "cell_type": "code",
   "execution_count": 7,
   "metadata": {},
   "outputs": [
    {
     "name": "stdout",
     "output_type": "stream",
     "text": [
      "Unique Authors: 12728\n"
     ]
    }
   ],
   "source": [
    "print(f\"Unique Authors: {len(set(post_pandemic['author']))}\")"
   ]
  },
  {
   "cell_type": "code",
   "execution_count": 8,
   "metadata": {},
   "outputs": [],
   "source": [
    "topics_data = pd.DataFrame(post_pandemic)"
   ]
  },
  {
   "cell_type": "code",
   "execution_count": 9,
   "metadata": {},
   "outputs": [],
   "source": [
    "topics_data.to_csv('./covid_depression.csv')"
   ]
  },
  {
   "cell_type": "code",
   "execution_count": 11,
   "metadata": {},
   "outputs": [],
   "source": [
    "collected_data = {\n",
    "        \"author\":[],\n",
    "        \"post_id\":[],\n",
    "        \"title\":[],\n",
    "        \"text\": []\n",
    "    }"
   ]
  },
  {
   "cell_type": "code",
   "execution_count": 12,
   "metadata": {},
   "outputs": [],
   "source": [
    "def getAllRedditSubmission(start,end,query):\n",
    "    start_date = start\n",
    "    end_date = end\n",
    "    \n",
    "#     collected_data = {\n",
    "#         \"author\":[],\n",
    "#         \"post_id\":[],\n",
    "#         \"title\":[],\n",
    "#         \"text\": []\n",
    "#     }\n",
    "#     SUBTEMP=[\"ADHD\", \"depression\"]\n",
    "    for sub in SUBREDDITS_NONDP:\n",
    "        print(sub)\n",
    "        temp_start_date=start_date\n",
    "        while temp_start_date<end_date:\n",
    "            temp_date_end = temp_start_date + (24*60*60)\n",
    "            submissions = getPushshiftData(query,temp_start_date,temp_date_end,sub)\n",
    "            for submission in submissions:\n",
    "                if 'removed_by_category' in submission:  ## Reject removed posts\n",
    "                    continue\n",
    "                try:\n",
    "                    collected_data[\"text\"].append(submission['selftext'])\n",
    "                    collected_data[\"author\"].append(submission['author'])\n",
    "                    collected_data[\"post_id\"].append(submission['id'])\n",
    "                    collected_data[\"title\"].append(submission['title'])\n",
    "                except KeyError:\n",
    "                    print(\"Exception Caught\")\n",
    "\n",
    "            temp_start_date = temp_date_end     \n",
    "    return collected_data"
   ]
  },
  {
   "cell_type": "code",
   "execution_count": 13,
   "metadata": {
    "scrolled": true
   },
   "outputs": [
    {
     "name": "stdout",
     "output_type": "stream",
     "text": [
      "Thoughts\n",
      "Exception Caught\n",
      "ReviewThis\n",
      "culture\n",
      "positivepsychology\n",
      "love\n",
      "travel\n",
      "Exception Caught\n",
      "Exception Caught\n",
      "MovieSuggestions\n",
      "Exception Caught\n",
      "Exception Caught\n",
      "Exception Caught\n",
      "Exception Caught\n"
     ]
    }
   ],
   "source": [
    "post_pandemicALL = getAllRedditSubmission(1541030400,1572566400,\"covid\") # Posts since 15 March mentioning covid\n"
   ]
  },
  {
   "cell_type": "code",
   "execution_count": 14,
   "metadata": {},
   "outputs": [
    {
     "data": {
      "text/plain": [
       "68029"
      ]
     },
     "execution_count": 14,
     "metadata": {},
     "output_type": "execute_result"
    }
   ],
   "source": [
    "len(collected_data['title'])"
   ]
  },
  {
   "cell_type": "code",
   "execution_count": 10,
   "metadata": {},
   "outputs": [
    {
     "name": "stdout",
     "output_type": "stream",
     "text": [
      "Unique Authors: 583\n"
     ]
    }
   ],
   "source": [
    "print(f\"Unique Authors: {len(set(collected_data['author']))}\")"
   ]
  },
  {
   "cell_type": "code",
   "execution_count": 17,
   "metadata": {},
   "outputs": [
    {
     "data": {
      "text/plain": [
       "'d7s1xn'"
      ]
     },
     "execution_count": 17,
     "metadata": {},
     "output_type": "execute_result"
    }
   ],
   "source": [
    "collected_data['title'].pop()\n",
    "collected_data['author'].pop()\n",
    "collected_data['post_id'].pop()"
   ]
  },
  {
   "cell_type": "code",
   "execution_count": 15,
   "metadata": {},
   "outputs": [],
   "source": [
    "safePosts = collected_data"
   ]
  },
  {
   "cell_type": "code",
   "execution_count": 16,
   "metadata": {},
   "outputs": [],
   "source": [
    "import re\n",
    "for x in range(len(safePosts['text'])):\n",
    "    line = safePosts['text'][x]\n",
    "    outstr = re.sub(r'[´]', '’', line)  # replace non-ASCII tick with apostrophe\n",
    "    outstr = re.sub('[\\']', '’', outstr)  # replace single quote with apostrophe\n",
    "    safePosts['text'][x] = outstr"
   ]
  },
  {
   "cell_type": "code",
   "execution_count": 17,
   "metadata": {},
   "outputs": [],
   "source": [
    "topics_dataAll = pd.DataFrame(safePosts)"
   ]
  },
  {
   "cell_type": "code",
   "execution_count": 18,
   "metadata": {},
   "outputs": [
    {
     "name": "stdout",
     "output_type": "stream",
     "text": [
      "author                                               spad067\n",
      "post_id                                               9t4joa\n",
      "title      It's interesting when you watch Patrick in the...\n",
      "text                                                        \n",
      "Name: 0, dtype: object\n"
     ]
    }
   ],
   "source": [
    "print(topics_dataAll.iloc[0])"
   ]
  },
  {
   "cell_type": "code",
   "execution_count": 19,
   "metadata": {},
   "outputs": [],
   "source": [
    "topics_dataAll.to_csv('categoryNonDepression1.csv', encoding='utf-8-sig')"
   ]
  },
  {
   "cell_type": "markdown",
   "metadata": {},
   "source": [
    "getAllRedditSubmission(1585699200,1601830157,\"covid\")"
   ]
  }
 ],
 "metadata": {
  "kernelspec": {
   "display_name": "Python 3",
   "language": "python",
   "name": "python3"
  },
  "language_info": {
   "codemirror_mode": {
    "name": "ipython",
    "version": 3
   },
   "file_extension": ".py",
   "mimetype": "text/x-python",
   "name": "python",
   "nbconvert_exporter": "python",
   "pygments_lexer": "ipython3",
   "version": "3.6.5"
  }
 },
 "nbformat": 4,
 "nbformat_minor": 4
}
