{
 "cells": [
  {
   "cell_type": "code",
   "execution_count": 1,
   "metadata": {},
   "outputs": [
    {
     "name": "stderr",
     "output_type": "stream",
     "text": [
      "/usr/local/Cellar/jupyterlab/2.2.8/libexec/lib/python3.8/site-packages/pprintpp/__init__.py:171: UserWarning: 'pprint' has already been imported; monkeypatching won't work everywhere.\n",
      "  warnings.warn(\"'pprint' has already been imported; monkeypatching \"\n"
     ]
    }
   ],
   "source": [
    "import praw\n",
    "import pandas as pd\n",
    "import datetime as dt\n",
    "import pprintpp\n",
    "pprintpp.monkeypatch()\n",
    "import pprint\n",
    "from collections import defaultdict\n",
    "from tqdm.notebook import tqdm\n",
    "import json\n",
    "# import sys\n",
    "# !{sys.executable} -m pip install ipywidgets"
   ]
  },
  {
   "cell_type": "code",
   "execution_count": 2,
   "metadata": {},
   "outputs": [],
   "source": [
    "ci=\"Jwk2toARLlEOXA\"\n",
    "cs=\"O5cntv1BI2uYrct4bNRCJfhDru8\"\n",
    "pw=\"Dhy6TAGXqmM85r\"\n",
    "un=\"InvestigatorSignal92\""
   ]
  },
  {
   "cell_type": "code",
   "execution_count": 3,
   "metadata": {},
   "outputs": [],
   "source": [
    "reddit = praw.Reddit(client_id=ci,\n",
    "                     client_secret=cs,\n",
    "                     password=pw,\n",
    "                     user_agent=\"testscript by u/lancelot1337\",\n",
    "                     username=un)"
   ]
  },
  {
   "cell_type": "code",
   "execution_count": 4,
   "metadata": {
    "scrolled": true
   },
   "outputs": [
    {
     "name": "stdout",
     "output_type": "stream",
     "text": [
      "InvestigatorSignal92\n"
     ]
    }
   ],
   "source": [
    "print(reddit.user.me())"
   ]
  },
  {
   "cell_type": "code",
   "execution_count": 5,
   "metadata": {},
   "outputs": [
    {
     "name": "stdout",
     "output_type": "stream",
     "text": [
      "{'*'}\n"
     ]
    }
   ],
   "source": [
    "print(reddit.auth.scopes())"
   ]
  },
  {
   "cell_type": "code",
   "execution_count": 6,
   "metadata": {},
   "outputs": [
    {
     "name": "stdout",
     "output_type": "stream",
     "text": [
      "/bin/zsh\n"
     ]
    }
   ],
   "source": [
    "! echo $SHELL"
   ]
  },
  {
   "cell_type": "code",
   "execution_count": 26,
   "metadata": {},
   "outputs": [],
   "source": [
    "All = reddit.subreddit(\"depression\")"
   ]
  },
  {
   "cell_type": "markdown",
   "metadata": {},
   "source": [
    "print(submissiontemp.selftext)\n",
    "submissiontemp = all.random()\n",
    "pprint.pprint(vars(submissiontemp))"
   ]
  },
  {
   "cell_type": "code",
   "execution_count": 8,
   "metadata": {},
   "outputs": [],
   "source": [
    "topics_dict = { \"title\":[], \"score\":[], \"id\":[], \"url\":[], \"comms_num\":[], \"created\": [], \"datetime\": [], \"body\":[], \"ups\":[]}\n"
   ]
  },
  {
   "cell_type": "markdown",
   "metadata": {},
   "source": [
    "topics_dict.clear()"
   ]
  },
  {
   "cell_type": "code",
   "execution_count": 4,
   "metadata": {},
   "outputs": [],
   "source": [
    "covid_posts = pd.read_csv('harshdeep.txt',header=None)"
   ]
  },
  {
   "cell_type": "code",
   "execution_count": 5,
   "metadata": {},
   "outputs": [
    {
     "data": {
      "text/html": [
       "<div>\n",
       "<style scoped>\n",
       "    .dataframe tbody tr th:only-of-type {\n",
       "        vertical-align: middle;\n",
       "    }\n",
       "\n",
       "    .dataframe tbody tr th {\n",
       "        vertical-align: top;\n",
       "    }\n",
       "\n",
       "    .dataframe thead th {\n",
       "        text-align: right;\n",
       "    }\n",
       "</style>\n",
       "<table border=\"1\" class=\"dataframe\">\n",
       "  <thead>\n",
       "    <tr style=\"text-align: right;\">\n",
       "      <th></th>\n",
       "      <th>0</th>\n",
       "    </tr>\n",
       "  </thead>\n",
       "  <tbody>\n",
       "    <tr>\n",
       "      <th>0</th>\n",
       "      <td>TheHungriestGoose</td>\n",
       "    </tr>\n",
       "    <tr>\n",
       "      <th>1</th>\n",
       "      <td>Ateammomof4</td>\n",
       "    </tr>\n",
       "    <tr>\n",
       "      <th>2</th>\n",
       "      <td>WarPigs02</td>\n",
       "    </tr>\n",
       "    <tr>\n",
       "      <th>3</th>\n",
       "      <td>dohongthinh</td>\n",
       "    </tr>\n",
       "    <tr>\n",
       "      <th>4</th>\n",
       "      <td>jdela959</td>\n",
       "    </tr>\n",
       "    <tr>\n",
       "      <th>...</th>\n",
       "      <td>...</td>\n",
       "    </tr>\n",
       "    <tr>\n",
       "      <th>24827</th>\n",
       "      <td>Itsfunny420</td>\n",
       "    </tr>\n",
       "    <tr>\n",
       "      <th>24828</th>\n",
       "      <td>Ashamed_Appearance</td>\n",
       "    </tr>\n",
       "    <tr>\n",
       "      <th>24829</th>\n",
       "      <td>CappingBottles</td>\n",
       "    </tr>\n",
       "    <tr>\n",
       "      <th>24830</th>\n",
       "      <td>Dahl91</td>\n",
       "    </tr>\n",
       "    <tr>\n",
       "      <th>24831</th>\n",
       "      <td>Locario1690</td>\n",
       "    </tr>\n",
       "  </tbody>\n",
       "</table>\n",
       "<p>24832 rows × 1 columns</p>\n",
       "</div>"
      ],
      "text/plain": [
       "                        0\n",
       "0       TheHungriestGoose\n",
       "1             Ateammomof4\n",
       "2               WarPigs02\n",
       "3             dohongthinh\n",
       "4                jdela959\n",
       "...                   ...\n",
       "24827         Itsfunny420\n",
       "24828  Ashamed_Appearance\n",
       "24829      CappingBottles\n",
       "24830              Dahl91\n",
       "24831         Locario1690\n",
       "\n",
       "[24832 rows x 1 columns]"
      ]
     },
     "execution_count": 5,
     "metadata": {},
     "output_type": "execute_result"
    }
   ],
   "source": [
    "covid_posts"
   ]
  },
  {
   "cell_type": "code",
   "execution_count": 6,
   "metadata": {
    "scrolled": true
   },
   "outputs": [],
   "source": [
    "authors = list(covid_posts[0])\n",
    "error = 0\n",
    "count=0\n",
    "len(authors)\n",
    "curated_data = dict()"
   ]
  },
  {
   "cell_type": "code",
   "execution_count": 7,
   "metadata": {},
   "outputs": [
    {
     "data": {
      "application/vnd.jupyter.widget-view+json": {
       "model_id": "3d90b9cd58054d788ebcce91015a2adc",
       "version_major": 2,
       "version_minor": 0
      },
      "text/plain": [
       "HBox(children=(HTML(value=''), FloatProgress(value=0.0, max=4832.0), HTML(value='')))"
      ]
     },
     "metadata": {},
     "output_type": "display_data"
    },
    {
     "name": "stdout",
     "output_type": "stream",
     "text": [
      "100\n",
      "200\n",
      "300\n",
      "400\n",
      "500\n",
      "600\n",
      "700\n",
      "800\n",
      "900\n",
      "1000\n",
      "1100\n",
      "1200\n",
      "1300\n",
      "1400\n",
      "1500\n",
      "1600\n",
      "1700\n",
      "1800\n",
      "1900\n",
      "2000\n",
      "2100\n",
      "2200\n",
      "2300\n",
      "2400\n",
      "2500\n",
      "2600\n",
      "2700\n",
      "2800\n",
      "2900\n",
      "3000\n",
      "3100\n",
      "3200\n",
      "3300\n",
      "3400\n",
      "3500\n",
      "3600\n",
      "3700\n",
      "3800\n",
      "3900\n",
      "4000\n",
      "4100\n",
      "4200\n",
      "\n"
     ]
    }
   ],
   "source": [
    "for author in tqdm(authors[20000:]):\n",
    "    attr_dict_post = {\"id\": [], \"url\": [], \"author\": [], \"created\": [], \"ups\": [], \"score\": [], \"title\": [], \"selftext\": [], \"subreddit\": []}\n",
    "    attr_dict_comment = {\"id\": [], \"created\": [], \"ups\": [], \"score\": [], \"body\": [], \"subreddit\": []} \n",
    "    try:\n",
    "        for post in reddit.redditor(author).submissions.new(limit=1000):\n",
    "            try:\n",
    "                attr_dict_post[\"id\"].append(post.id)\n",
    "                attr_dict_post[\"url\"].append(post.url)\n",
    "                attr_dict_post[\"author\"].append(post.author.name)\n",
    "                attr_dict_post[\"created\"].append(post.created)\n",
    "                attr_dict_post[\"ups\"].append(post.ups)\n",
    "                attr_dict_post[\"score\"].append(post.score)\n",
    "                attr_dict_post[\"title\"].append(post.title)\n",
    "                attr_dict_post[\"selftext\"].append(post.selftext)\n",
    "                attr_dict_post[\"subreddit\"].append(post.subreddit_name_prefixed)\n",
    "            except:\n",
    "                error+=1\n",
    "        #try:\n",
    "        #    for comment in reddit.redditor(author).comments.new(limit=None):\n",
    "        #        attr_dict_comment[\"id\"].append(comment.id)\n",
    "        #        attr_dict_comment[\"created\"].append(comment.created)\n",
    "        #        attr_dict_comment[\"ups\"].append(comment.ups)\n",
    "        #        attr_dict_comment[\"score\"].append(comment.score)\n",
    "        #        attr_dict_comment[\"body\"].append(comment.body)\n",
    "        #        attr_dict_comment[\"subreddit\"].append(comment.subreddit_name_prefixed)\n",
    "        #except:\n",
    "        #    print('Key not found 2')\n",
    "        #    author_data = {\"posts\": attr_dict_post, \"comments\": attr_dict_comment}\n",
    "        if len(attr_dict_post[\"id\"]) > 0:\n",
    "            count+=1\n",
    "            author_data = {\"posts\": attr_dict_post}\n",
    "            curated_data[author] = author_data\n",
    "        if count%100 == 0:\n",
    "            print(count)\n",
    "    except:\n",
    "        error+=1"
   ]
  },
  {
   "cell_type": "code",
   "execution_count": 8,
   "metadata": {},
   "outputs": [],
   "source": [
    "with open('curated_data_4.json', 'w') as fp:\n",
    "    json.dump(curated_data, fp)"
   ]
  },
  {
   "cell_type": "code",
   "execution_count": 9,
   "metadata": {},
   "outputs": [
    {
     "data": {
      "text/plain": [
       "404"
      ]
     },
     "execution_count": 9,
     "metadata": {},
     "output_type": "execute_result"
    }
   ],
   "source": []
  }
 ],
 "metadata": {
  "kernelspec": {
   "display_name": "Python 3",
   "language": "python",
   "name": "python3"
  },
  "language_info": {
   "codemirror_mode": {
    "name": "ipython",
    "version": 3
   },
   "file_extension": ".py",
   "mimetype": "text/x-python",
   "name": "python",
   "nbconvert_exporter": "python",
   "pygments_lexer": "ipython3",
   "version": "3.7.4"
  }
 },
 "nbformat": 4,
 "nbformat_minor": 4
}
